{
  "nbformat": 4,
  "nbformat_minor": 0,
  "metadata": {
    "colab": {
      "provenance": []
    },
    "kernelspec": {
      "name": "python3",
      "display_name": "Python 3"
    },
    "language_info": {
      "name": "python"
    }
  },
  "cells": [
    {
      "cell_type": "markdown",
      "source": [
        "# **Preprocessing**"
      ],
      "metadata": {
        "id": "Fm4sUwiF1SbH"
      }
    },
    {
      "cell_type": "code",
      "source": [
        "# preprocess_rul_data.py\n",
        "import pandas as pd\n",
        "import numpy as np\n",
        "\n",
        "# Step 1: Load and label columns\n",
        "df = pd.read_csv(\"train_FD001.txt\", sep=\"\\s+\", header=None)\n",
        "cols = ['unit_number', 'time_in_cycles'] + \\\n",
        "       [f'operational_setting_{i}' for i in range(1, 4)] + \\\n",
        "       [f'sensor_measurement_{i}' for i in range(1, 22)]\n",
        "df.columns = cols\n",
        "\n",
        "# Step 2: Drop irrelevant or constant sensors\n",
        "drop_sensors = ['sensor_measurement_1', 'sensor_measurement_5', 'sensor_measurement_6',\n",
        "                'sensor_measurement_10', 'sensor_measurement_16', 'sensor_measurement_18',\n",
        "                'sensor_measurement_19']\n",
        "df.drop(columns=drop_sensors, inplace=True)\n",
        "\n",
        "# Step 3: Feature engineering (only past and current info used)\n",
        "for col in df.columns:\n",
        "    if 'sensor_measurement' in col or 'operational_setting' in col:\n",
        "        df[f'{col}_roll_mean'] = df.groupby(\"unit_number\")[col].rolling(window=5, min_periods=1).mean().reset_index(level=0, drop=True)\n",
        "        df[f'{col}_roll_std'] = df.groupby(\"unit_number\")[col].rolling(window=5, min_periods=1).std().reset_index(level=0, drop=True).fillna(0)\n",
        "        df[f'{col}_delta'] = df.groupby(\"unit_number\")[col].diff().fillna(0)\n",
        "        df[f'{col}_ema'] = df.groupby(\"unit_number\")[col].ewm(span=5, adjust=False).mean().reset_index(level=0, drop=True)\n",
        "\n",
        "# Step 4: Normalized cycle position within each unit\n",
        "df['cycle_norm'] = df.groupby('unit_number')['time_in_cycles'].transform(lambda x: x / x.max())\n",
        "\n",
        "# Step 5: Safe RUL calculation (based only on each unit's max cycle)\n",
        "max_cycle = df.groupby('unit_number')['time_in_cycles'].transform('max')\n",
        "df['RUL'] = max_cycle - df['time_in_cycles']\n",
        "\n",
        "# Step 6: Reset index and save\n",
        "df.reset_index(drop=True, inplace=True)\n",
        "df.to_csv(\"preprocessed_rul_data.csv\", index=False)\n",
        "print(\"Leak-free preprocessing complete. Saved as 'preprocessed_rul_data.csv'\")\n"
      ],
      "metadata": {
        "colab": {
          "base_uri": "https://localhost:8080/"
        },
        "id": "Upr4sy1EBf_J",
        "outputId": "bf183780-c558-45cd-b824-6fc5fa29f331"
      },
      "execution_count": 7,
      "outputs": [
        {
          "output_type": "stream",
          "name": "stdout",
          "text": [
            "Leak-free preprocessing complete. Saved as 'preprocessed_rul_data.csv'\n"
          ]
        }
      ]
    },
    {
      "cell_type": "markdown",
      "source": [
        "# **LightGBM**"
      ],
      "metadata": {
        "id": "jvJ-gSgreVnm"
      }
    },
    {
      "cell_type": "code",
      "source": [
        "# train_lightgbm.py\n",
        "import pandas as pd\n",
        "import numpy as np\n",
        "from sklearn.model_selection import train_test_split\n",
        "from sklearn.preprocessing import MinMaxScaler\n",
        "from lightgbm import LGBMRegressor\n",
        "from sklearn.metrics import mean_squared_error, mean_absolute_error, r2_score\n",
        "import joblib\n",
        "\n",
        "# Load preprocessed data\n",
        "df = pd.read_csv(\"preprocessed_rul_data.csv\")\n",
        "\n",
        "# Drop non-feature columns\n",
        "X = df.drop(columns=[\"unit_number\", \"time_in_cycles\", \"RUL\"])\n",
        "y = df[\"RUL\"]\n",
        "\n",
        "# Step 1: 70% train_val, 30% holdout (unseen testing)\n",
        "X_train_val, X_holdout, y_train_val, y_holdout = train_test_split(\n",
        "    X, y, test_size=0.3, random_state=42\n",
        ")\n",
        "\n",
        "# Step 2: 80% train, 20% val from train_val\n",
        "X_train, X_val, y_train, y_val = train_test_split(\n",
        "    X_train_val, y_train_val, test_size=0.2, random_state=42\n",
        ")\n",
        "\n",
        "# Step 3: Scale using training set only\n",
        "scaler = MinMaxScaler()\n",
        "X_train_scaled = scaler.fit_transform(X_train)\n",
        "X_val_scaled = scaler.transform(X_val)\n",
        "X_holdout_scaled = scaler.transform(X_holdout)\n",
        "\n",
        "# Save scaler and scaled data\n",
        "joblib.dump(scaler, \"scaler.joblib\")\n",
        "joblib.dump(\n",
        "    (X_train_scaled, X_val_scaled, X_holdout_scaled, y_train, y_val, y_holdout),\n",
        "    \"scaled_data.joblib\"\n",
        ")\n",
        "\n",
        "# Step 4: Train LightGBM model\n",
        "model = LGBMRegressor(\n",
        "    n_estimators=300,\n",
        "    learning_rate=0.05,\n",
        "    max_depth=7,\n",
        "    num_leaves=40,\n",
        "    subsample=0.8,\n",
        "    colsample_bytree=0.8,\n",
        "    reg_lambda=1.0,\n",
        "    random_state=42\n",
        ")\n",
        "model.fit(X_train_scaled, y_train)\n",
        "\n",
        "# Step 5: Evaluation function\n",
        "def evaluate(name, y_true, y_pred):\n",
        "    print(f\"\\n{name} Evaluation:\")\n",
        "    mae = mean_absolute_error(y_true, y_pred)\n",
        "    rmse = np.sqrt(mean_squared_error(y_true, y_pred))\n",
        "    r2 = r2_score(y_true, y_pred)\n",
        "    print(\"MAE :\", mae)\n",
        "    print(\"RMSE:\", rmse)\n",
        "    print(\"R²  :\", r2)\n",
        "\n",
        "# Evaluate on val and holdout\n",
        "evaluate(\"Validation\", y_val, model.predict(X_val_scaled))\n",
        "evaluate(\"Holdout\", y_holdout, model.predict(X_holdout_scaled))\n",
        "\n",
        "# Save model\n",
        "joblib.dump(model, \"lightgbm_model.joblib\")\n",
        "print(\" LightGBM training complete and model saved.\")\n"
      ],
      "metadata": {
        "colab": {
          "base_uri": "https://localhost:8080/"
        },
        "id": "3ltuhcCsBz6a",
        "outputId": "444b3f55-7d75-444b-81f0-d2189da053ca"
      },
      "execution_count": 8,
      "outputs": [
        {
          "output_type": "stream",
          "name": "stderr",
          "text": [
            "/usr/local/lib/python3.11/dist-packages/sklearn/utils/deprecation.py:151: FutureWarning: 'force_all_finite' was renamed to 'ensure_all_finite' in 1.6 and will be removed in 1.8.\n",
            "  warnings.warn(\n"
          ]
        },
        {
          "output_type": "stream",
          "name": "stdout",
          "text": [
            "[LightGBM] [Info] Auto-choosing col-wise multi-threading, the overhead of testing was 0.011273 seconds.\n",
            "You can set `force_col_wise=true` to remove the overhead.\n",
            "[LightGBM] [Info] Total Bins 17841\n",
            "[LightGBM] [Info] Number of data points in the train set: 11552, number of used features: 81\n",
            "[LightGBM] [Info] Start training from score 107.365738\n",
            "[LightGBM] [Warning] No further splits with positive gain, best gain: -inf\n",
            "[LightGBM] [Warning] No further splits with positive gain, best gain: -inf\n",
            "[LightGBM] [Warning] No further splits with positive gain, best gain: -inf\n",
            "[LightGBM] [Warning] No further splits with positive gain, best gain: -inf\n",
            "[LightGBM] [Warning] No further splits with positive gain, best gain: -inf\n",
            "[LightGBM] [Warning] No further splits with positive gain, best gain: -inf\n",
            "[LightGBM] [Warning] No further splits with positive gain, best gain: -inf\n",
            "[LightGBM] [Warning] No further splits with positive gain, best gain: -inf\n",
            "[LightGBM] [Warning] No further splits with positive gain, best gain: -inf\n",
            "[LightGBM] [Warning] No further splits with positive gain, best gain: -inf\n",
            "[LightGBM] [Warning] No further splits with positive gain, best gain: -inf\n",
            "[LightGBM] [Warning] No further splits with positive gain, best gain: -inf\n",
            "[LightGBM] [Warning] No further splits with positive gain, best gain: -inf\n",
            "[LightGBM] [Warning] No further splits with positive gain, best gain: -inf\n",
            "[LightGBM] [Warning] No further splits with positive gain, best gain: -inf\n",
            "[LightGBM] [Warning] No further splits with positive gain, best gain: -inf\n",
            "[LightGBM] [Warning] No further splits with positive gain, best gain: -inf\n",
            "[LightGBM] [Warning] No further splits with positive gain, best gain: -inf\n",
            "[LightGBM] [Warning] No further splits with positive gain, best gain: -inf\n",
            "[LightGBM] [Warning] No further splits with positive gain, best gain: -inf\n",
            "[LightGBM] [Warning] No further splits with positive gain, best gain: -inf\n",
            "[LightGBM] [Warning] No further splits with positive gain, best gain: -inf\n",
            "[LightGBM] [Warning] No further splits with positive gain, best gain: -inf\n",
            "[LightGBM] [Warning] No further splits with positive gain, best gain: -inf\n",
            "[LightGBM] [Warning] No further splits with positive gain, best gain: -inf\n",
            "[LightGBM] [Warning] No further splits with positive gain, best gain: -inf\n",
            "[LightGBM] [Warning] No further splits with positive gain, best gain: -inf\n",
            "[LightGBM] [Warning] No further splits with positive gain, best gain: -inf\n",
            "[LightGBM] [Warning] No further splits with positive gain, best gain: -inf\n",
            "[LightGBM] [Warning] No further splits with positive gain, best gain: -inf\n",
            "[LightGBM] [Warning] No further splits with positive gain, best gain: -inf\n",
            "[LightGBM] [Warning] No further splits with positive gain, best gain: -inf\n",
            "[LightGBM] [Warning] No further splits with positive gain, best gain: -inf\n",
            "[LightGBM] [Warning] No further splits with positive gain, best gain: -inf\n",
            "[LightGBM] [Warning] No further splits with positive gain, best gain: -inf\n",
            "[LightGBM] [Warning] No further splits with positive gain, best gain: -inf\n",
            "[LightGBM] [Warning] No further splits with positive gain, best gain: -inf\n",
            "[LightGBM] [Warning] No further splits with positive gain, best gain: -inf\n",
            "[LightGBM] [Warning] No further splits with positive gain, best gain: -inf\n",
            "[LightGBM] [Warning] No further splits with positive gain, best gain: -inf\n",
            "[LightGBM] [Warning] No further splits with positive gain, best gain: -inf\n",
            "[LightGBM] [Warning] No further splits with positive gain, best gain: -inf\n",
            "[LightGBM] [Warning] No further splits with positive gain, best gain: -inf\n",
            "[LightGBM] [Warning] No further splits with positive gain, best gain: -inf\n",
            "[LightGBM] [Warning] No further splits with positive gain, best gain: -inf\n",
            "[LightGBM] [Warning] No further splits with positive gain, best gain: -inf\n",
            "[LightGBM] [Warning] No further splits with positive gain, best gain: -inf\n",
            "[LightGBM] [Warning] No further splits with positive gain, best gain: -inf\n",
            "[LightGBM] [Warning] No further splits with positive gain, best gain: -inf\n",
            "[LightGBM] [Warning] No further splits with positive gain, best gain: -inf\n",
            "[LightGBM] [Warning] No further splits with positive gain, best gain: -inf\n",
            "[LightGBM] [Warning] No further splits with positive gain, best gain: -inf\n",
            "[LightGBM] [Warning] No further splits with positive gain, best gain: -inf\n",
            "[LightGBM] [Warning] No further splits with positive gain, best gain: -inf\n",
            "[LightGBM] [Warning] No further splits with positive gain, best gain: -inf\n",
            "[LightGBM] [Warning] No further splits with positive gain, best gain: -inf\n",
            "[LightGBM] [Warning] No further splits with positive gain, best gain: -inf\n",
            "[LightGBM] [Warning] No further splits with positive gain, best gain: -inf\n",
            "[LightGBM] [Warning] No further splits with positive gain, best gain: -inf\n",
            "[LightGBM] [Warning] No further splits with positive gain, best gain: -inf\n",
            "[LightGBM] [Warning] No further splits with positive gain, best gain: -inf\n",
            "[LightGBM] [Warning] No further splits with positive gain, best gain: -inf\n",
            "[LightGBM] [Warning] No further splits with positive gain, best gain: -inf\n",
            "[LightGBM] [Warning] No further splits with positive gain, best gain: -inf\n",
            "[LightGBM] [Warning] No further splits with positive gain, best gain: -inf\n",
            "[LightGBM] [Warning] No further splits with positive gain, best gain: -inf\n",
            "[LightGBM] [Warning] No further splits with positive gain, best gain: -inf\n",
            "[LightGBM] [Warning] No further splits with positive gain, best gain: -inf\n",
            "[LightGBM] [Warning] No further splits with positive gain, best gain: -inf\n",
            "[LightGBM] [Warning] No further splits with positive gain, best gain: -inf\n",
            "[LightGBM] [Warning] No further splits with positive gain, best gain: -inf\n",
            "[LightGBM] [Warning] No further splits with positive gain, best gain: -inf\n",
            "[LightGBM] [Warning] No further splits with positive gain, best gain: -inf\n",
            "[LightGBM] [Warning] No further splits with positive gain, best gain: -inf\n",
            "[LightGBM] [Warning] No further splits with positive gain, best gain: -inf\n",
            "[LightGBM] [Warning] No further splits with positive gain, best gain: -inf\n",
            "[LightGBM] [Warning] No further splits with positive gain, best gain: -inf\n",
            "[LightGBM] [Warning] No further splits with positive gain, best gain: -inf\n",
            "[LightGBM] [Warning] No further splits with positive gain, best gain: -inf\n"
          ]
        },
        {
          "output_type": "stream",
          "name": "stderr",
          "text": [
            "/usr/local/lib/python3.11/dist-packages/sklearn/utils/deprecation.py:151: FutureWarning: 'force_all_finite' was renamed to 'ensure_all_finite' in 1.6 and will be removed in 1.8.\n",
            "  warnings.warn(\n",
            "/usr/local/lib/python3.11/dist-packages/sklearn/utils/deprecation.py:151: FutureWarning: 'force_all_finite' was renamed to 'ensure_all_finite' in 1.6 and will be removed in 1.8.\n",
            "  warnings.warn(\n"
          ]
        },
        {
          "output_type": "stream",
          "name": "stdout",
          "text": [
            "\n",
            "Validation Evaluation:\n",
            "MAE : 16.367472579488762\n",
            "RMSE: 23.719706161642765\n",
            "R²  : 0.8851284919416782\n",
            "\n",
            "Holdout Evaluation:\n",
            "MAE : 16.705945777007535\n",
            "RMSE: 23.734778819029227\n",
            "R²  : 0.8770101238848215\n",
            " LightGBM training complete and model saved.\n"
          ]
        }
      ]
    },
    {
      "cell_type": "markdown",
      "source": [
        "# **SVR**"
      ],
      "metadata": {
        "id": "J1Ht1z3bee3G"
      }
    },
    {
      "cell_type": "code",
      "source": [
        "# train_svr.py\n",
        "import joblib\n",
        "import numpy as np\n",
        "from sklearn.svm import SVR\n",
        "from sklearn.utils import resample\n",
        "from sklearn.metrics import mean_absolute_error, mean_squared_error, r2_score\n",
        "\n",
        "# Load scaled data\n",
        "X_train_scaled, X_val_scaled, X_holdout_scaled, y_train, y_val, y_holdout = joblib.load(\"scaled_data.joblib\")\n",
        "\n",
        "#  Downsample training data for faster training\n",
        "X_svr_train, y_svr_train = resample(\n",
        "    X_train_scaled, y_train, n_samples=5000, random_state=42\n",
        ")\n",
        "\n",
        "# Train SVR model\n",
        "svr_model = SVR(kernel='rbf', C=10, epsilon=0.5, gamma='scale')\n",
        "svr_model.fit(X_svr_train, y_svr_train)\n",
        "\n",
        "# Save trained model\n",
        "joblib.dump(svr_model, \"svr_model.joblib\")\n",
        "print(\"✅ Saved svr_model.joblib\")\n",
        "\n",
        "# Evaluation function\n",
        "def evaluate(name, X, y):\n",
        "    preds = svr_model.predict(X)\n",
        "    mae = mean_absolute_error(y, preds)\n",
        "    rmse = np.sqrt(mean_squared_error(y, preds))\n",
        "    r2 = r2_score(y, preds)\n",
        "\n",
        "    print(f\"\\n{name} Evaluation:\")\n",
        "    print(\"MAE :\", mae)\n",
        "    print(\"RMSE:\", rmse)\n",
        "    print(\"R²  :\", r2)\n",
        "\n",
        "# Run evaluations\n",
        "evaluate(\"Validation\", X_val_scaled, y_val)\n",
        "evaluate(\"Holdout\", X_holdout_scaled, y_holdout)\n"
      ],
      "metadata": {
        "colab": {
          "base_uri": "https://localhost:8080/"
        },
        "id": "gFJI4RVnCrnO",
        "outputId": "dfa97abf-5197-4037-b08a-82bcc1e3a5b0"
      },
      "execution_count": 9,
      "outputs": [
        {
          "output_type": "stream",
          "name": "stdout",
          "text": [
            "✅ Saved svr_model.joblib\n",
            "\n",
            "Validation Evaluation:\n",
            "MAE : 18.658455347484452\n",
            "RMSE: 29.87076399050042\n",
            "R²  : 0.8178260084178834\n",
            "\n",
            "Holdout Evaluation:\n",
            "MAE : 18.36718867842253\n",
            "RMSE: 28.596825742186407\n",
            "R²  : 0.8214603643808744\n"
          ]
        }
      ]
    },
    {
      "cell_type": "markdown",
      "source": [
        "# **LSTM**"
      ],
      "metadata": {
        "id": "KJM51rifemK2"
      }
    },
    {
      "cell_type": "code",
      "source": [
        "# train_lstm.py\n",
        "import torch\n",
        "import torch.nn as nn\n",
        "from torch.utils.data import Dataset, DataLoader\n",
        "from sklearn.metrics import mean_absolute_error, mean_squared_error, r2_score\n",
        "import numpy as np\n",
        "import pandas as pd\n",
        "import joblib\n",
        "\n",
        "# Load scaled and split data\n",
        "X_train_scaled, X_val_scaled, X_holdout_scaled, y_train, y_val, y_holdout = joblib.load(\"scaled_data.joblib\")\n",
        "\n",
        "# LSTM Dataset class\n",
        "class RULDataset(Dataset):\n",
        "    def __init__(self, X, y, seq_len=30):\n",
        "        self.X, self.y = self.create_sequences(X, y, seq_len)\n",
        "\n",
        "    def create_sequences(self, X, y, seq_len):\n",
        "        X_seq, y_seq = [], []\n",
        "        for i in range(seq_len, len(X)):\n",
        "            X_seq.append(X[i-seq_len:i])\n",
        "            y_seq.append(y[i])\n",
        "        return torch.tensor(np.array(X_seq), dtype=torch.float32), torch.tensor(np.array(y_seq), dtype=torch.float32)\n",
        "\n",
        "    def __len__(self): return len(self.y)\n",
        "    def __getitem__(self, idx): return self.X[idx], self.y[idx]\n",
        "\n",
        "# LSTM Model definition\n",
        "class LSTMModel(nn.Module):\n",
        "    def __init__(self, input_size, hidden_size=100, num_layers=2, dropout=0.3):\n",
        "        super().__init__()\n",
        "        self.lstm = nn.LSTM(input_size, hidden_size, num_layers, batch_first=True, dropout=dropout)\n",
        "        self.fc = nn.Linear(hidden_size, 1)\n",
        "\n",
        "    def forward(self, x):\n",
        "        out, _ = self.lstm(x)\n",
        "        return self.fc(out[:, -1, :]).squeeze()\n",
        "\n",
        "# Parameters\n",
        "seq_len = 30\n",
        "batch_size = 64\n",
        "input_size = X_train_scaled.shape[1]\n",
        "epochs = 50\n",
        "learning_rate = 0.001\n",
        "\n",
        "# Create Datasets and DataLoaders\n",
        "train_data = RULDataset(X_train_scaled, y_train.values, seq_len)\n",
        "val_data = RULDataset(X_val_scaled, y_val.values, seq_len)\n",
        "holdout_data = RULDataset(X_holdout_scaled, y_holdout.values, seq_len)\n",
        "\n",
        "train_loader = DataLoader(train_data, batch_size=batch_size, shuffle=True)\n",
        "val_loader = DataLoader(val_data, batch_size=batch_size)\n",
        "holdout_loader = DataLoader(holdout_data, batch_size=batch_size)\n",
        "\n",
        "# Initialize model, optimizer, and loss\n",
        "model = LSTMModel(input_size=input_size)\n",
        "optimizer = torch.optim.Adam(model.parameters(), lr=learning_rate)\n",
        "criterion = nn.MSELoss()\n",
        "clip = 1.0\n",
        "\n",
        "# Train loop\n",
        "for epoch in range(epochs):\n",
        "    model.train()\n",
        "    total_loss = 0\n",
        "    for X_batch, y_batch in train_loader:\n",
        "        optimizer.zero_grad()\n",
        "        y_pred = model(X_batch)\n",
        "        loss = criterion(y_pred, y_batch)\n",
        "        loss.backward()\n",
        "        torch.nn.utils.clip_grad_norm_(model.parameters(), max_norm=clip)\n",
        "        optimizer.step()\n",
        "        total_loss += loss.item()\n",
        "    print(f\"Epoch {epoch+1}/{epochs} - Loss: {total_loss:.4f}\")\n",
        "\n",
        "# Evaluation function\n",
        "def evaluate_lstm(name, loader, true_targets):\n",
        "    model.eval()\n",
        "    preds, truths = [], []\n",
        "    with torch.no_grad():\n",
        "        for X_batch, y_batch in loader:\n",
        "            y_pred = model(X_batch)\n",
        "            preds.extend(y_pred.numpy())\n",
        "            truths.extend(y_batch.numpy())\n",
        "\n",
        "    # Align predictions with correct true values\n",
        "    y_true_aligned = true_targets[seq_len:]\n",
        "    preds = np.array(preds)\n",
        "\n",
        "    mae = mean_absolute_error(y_true_aligned, preds)\n",
        "    rmse = np.sqrt(mean_squared_error(y_true_aligned, preds))\n",
        "    r2 = r2_score(y_true_aligned, preds)\n",
        "\n",
        "    print(f\"\\n{name} Evaluation:\")\n",
        "    print(\"MAE :\", mae)\n",
        "    print(\"RMSE:\", rmse)\n",
        "    print(\"R²  :\", r2)\n",
        "\n",
        "    return y_true_aligned, preds\n",
        "\n",
        "# Evaluate on holdout set\n",
        "y_true_lstm, y_pred_lstm = evaluate_lstm(\"LSTM - Holdout\", holdout_loader, y_holdout.values)\n",
        "\n",
        "# Save predictions\n",
        "df_lstm = pd.DataFrame({\n",
        "    \"actual_rul\": y_true_lstm,\n",
        "    \"lstm_pred\": y_pred_lstm\n",
        "})\n",
        "df_lstm.to_csv(\"lstm_predictions.csv\", index=False)\n",
        "print(\"Saved lstm_predictions.csv\")\n"
      ],
      "metadata": {
        "colab": {
          "base_uri": "https://localhost:8080/"
        },
        "id": "NkVTygHkC6Bd",
        "outputId": "c9d03c6a-a805-4c29-e960-ddaf3b35022f"
      },
      "execution_count": 10,
      "outputs": [
        {
          "output_type": "stream",
          "name": "stdout",
          "text": [
            "Epoch 1/50 - Loss: 2481134.6167\n",
            "Epoch 2/50 - Loss: 1893833.7420\n",
            "Epoch 3/50 - Loss: 1461428.9150\n",
            "Epoch 4/50 - Loss: 1153478.8125\n",
            "Epoch 5/50 - Loss: 964416.8005\n",
            "Epoch 6/50 - Loss: 881626.8779\n",
            "Epoch 7/50 - Loss: 862814.7745\n",
            "Epoch 8/50 - Loss: 865057.9695\n",
            "Epoch 9/50 - Loss: 863732.3225\n",
            "Epoch 10/50 - Loss: 863816.6177\n",
            "Epoch 11/50 - Loss: 870302.0479\n",
            "Epoch 12/50 - Loss: 869233.9849\n",
            "Epoch 13/50 - Loss: 863483.8407\n",
            "Epoch 14/50 - Loss: 865564.9456\n",
            "Epoch 15/50 - Loss: 866980.6169\n",
            "Epoch 16/50 - Loss: 864093.2809\n",
            "Epoch 17/50 - Loss: 864183.5002\n",
            "Epoch 18/50 - Loss: 867052.7122\n",
            "Epoch 19/50 - Loss: 885862.0837\n",
            "Epoch 20/50 - Loss: 863890.3835\n",
            "Epoch 21/50 - Loss: 868563.4490\n",
            "Epoch 22/50 - Loss: 867370.6729\n",
            "Epoch 23/50 - Loss: 863647.0927\n",
            "Epoch 24/50 - Loss: 867700.5894\n",
            "Epoch 25/50 - Loss: 869276.9131\n",
            "Epoch 26/50 - Loss: 877620.8743\n",
            "Epoch 27/50 - Loss: 867364.9268\n",
            "Epoch 28/50 - Loss: 882456.0007\n",
            "Epoch 29/50 - Loss: 865543.8765\n",
            "Epoch 30/50 - Loss: 863228.5024\n",
            "Epoch 31/50 - Loss: 864441.1157\n",
            "Epoch 32/50 - Loss: 869818.2356\n",
            "Epoch 33/50 - Loss: 865123.2607\n",
            "Epoch 34/50 - Loss: 866104.8889\n",
            "Epoch 35/50 - Loss: 866671.1428\n",
            "Epoch 36/50 - Loss: 863890.3287\n",
            "Epoch 37/50 - Loss: 864669.9546\n",
            "Epoch 38/50 - Loss: 865995.6409\n",
            "Epoch 39/50 - Loss: 866429.3687\n",
            "Epoch 40/50 - Loss: 862401.0047\n",
            "Epoch 41/50 - Loss: 864057.2173\n",
            "Epoch 42/50 - Loss: 879023.6584\n",
            "Epoch 43/50 - Loss: 880889.3257\n",
            "Epoch 44/50 - Loss: 864055.5059\n",
            "Epoch 45/50 - Loss: 867677.4744\n",
            "Epoch 46/50 - Loss: 862836.6221\n",
            "Epoch 47/50 - Loss: 863414.4114\n",
            "Epoch 48/50 - Loss: 862943.0317\n",
            "Epoch 49/50 - Loss: 862443.0365\n",
            "Epoch 50/50 - Loss: 865347.4734\n",
            "\n",
            "LSTM - Holdout Evaluation:\n",
            "MAE : 55.837825775146484\n",
            "RMSE: 67.7325817957558\n",
            "R²  : -0.0005449056625366211\n",
            "✅ Saved lstm_predictions.csv\n"
          ]
        }
      ]
    },
    {
      "cell_type": "markdown",
      "source": [
        "# **Model comparison**"
      ],
      "metadata": {
        "id": "3ZpBkzZ9exZ1"
      }
    },
    {
      "cell_type": "code",
      "source": [
        "# compare_models.py\n",
        "import numpy as np\n",
        "import pandas as pd\n",
        "from sklearn.metrics import mean_absolute_error, mean_squared_error, r2_score\n",
        "import joblib\n",
        "\n",
        "# Load scaled and split data\n",
        "X_train_scaled, X_val_scaled, X_holdout_scaled, y_train, y_val, y_holdout = joblib.load(\"scaled_data.joblib\")\n",
        "\n",
        "# Load trained models\n",
        "lgb_model = joblib.load(\"lightgbm_model.joblib\")\n",
        "svr_model = joblib.load(\"svr_model.joblib\")\n",
        "\n",
        "# Predictions from LightGBM and SVM on the full holdout set\n",
        "y_pred_lgb = lgb_model.predict(X_holdout_scaled)\n",
        "y_pred_svr = svr_model.predict(X_holdout_scaled)\n",
        "\n",
        "# Load LSTM predictions — already aligned and stored in CSV\n",
        "df_lstm = pd.read_csv(\"lstm_predictions.csv\")\n",
        "y_true_lstm = df_lstm[\"actual_rul\"].values\n",
        "y_pred_lstm = df_lstm[\"lstm_pred\"].values\n",
        "\n",
        "# Create evaluation function\n",
        "def get_metrics(y_true, y_pred):\n",
        "    return {\n",
        "        \"mae\": mean_absolute_error(y_true, y_pred),\n",
        "        \"rmse\": np.sqrt(mean_squared_error(y_true, y_pred)),\n",
        "        \"r2\": r2_score(y_true, y_pred)\n",
        "    }\n",
        "\n",
        "# Collect metrics into a list of dicts\n",
        "metrics = [\n",
        "    {\"model\": \"LightGBM\", **get_metrics(y_holdout, y_pred_lgb)},\n",
        "    {\"model\": \"SVM\",      **get_metrics(y_holdout, y_pred_svr)},\n",
        "    {\"model\": \"LSTM\",     **get_metrics(y_true_lstm, y_pred_lstm)}\n",
        "]\n",
        "\n",
        "# Save results as a CSV\n",
        "df_compare = pd.DataFrame(metrics)\n",
        "df_compare.to_csv(\"model_comparison2.csv\", index=False)\n",
        "print(\" Saved model_comparison.csv with performance of LightGBM, SVM, and LSTM.\")\n"
      ],
      "metadata": {
        "colab": {
          "base_uri": "https://localhost:8080/"
        },
        "id": "EKgvjvwZDU28",
        "outputId": "2dce5ff6-5e06-46ac-ecca-f68a171989f6"
      },
      "execution_count": 13,
      "outputs": [
        {
          "output_type": "stream",
          "name": "stderr",
          "text": [
            "/usr/local/lib/python3.11/dist-packages/sklearn/utils/deprecation.py:151: FutureWarning: 'force_all_finite' was renamed to 'ensure_all_finite' in 1.6 and will be removed in 1.8.\n",
            "  warnings.warn(\n"
          ]
        },
        {
          "output_type": "stream",
          "name": "stdout",
          "text": [
            "✅ Saved model_comparison.csv with performance of LightGBM, SVM, and LSTM.\n"
          ]
        }
      ]
    },
    {
      "cell_type": "markdown",
      "source": [
        "# **Actual vs Predicted**"
      ],
      "metadata": {
        "id": "mNcx4lZGfBHZ"
      }
    },
    {
      "cell_type": "code",
      "source": [
        "# actual_vs_predicted.py\n",
        "import pandas as pd\n",
        "import numpy as np\n",
        "import joblib\n",
        "\n",
        "# Load scaled holdout set and true RUL values\n",
        "_, _, X_holdout_scaled, _, _, y_holdout = joblib.load(\"scaled_data.joblib\")\n",
        "\n",
        "# Load LightGBM and SVM models\n",
        "lgb_model = joblib.load(\"lightgbm_model.joblib\")\n",
        "svr_model = joblib.load(\"svr_model.joblib\")\n",
        "\n",
        "# Generate predictions on the holdout set\n",
        "y_pred_lgb = lgb_model.predict(X_holdout_scaled)\n",
        "y_pred_svr = svr_model.predict(X_holdout_scaled)\n",
        "\n",
        "# Load LSTM predictions from CSV\n",
        "df_lstm = pd.read_csv(\"lstm_predictions.csv\")\n",
        "y_true_lstm = df_lstm[\"actual_rul\"].values\n",
        "y_pred_lstm = df_lstm[\"lstm_pred\"].values\n",
        "\n",
        "# Align other model predictions to LSTM\n",
        "seq_len = 30\n",
        "y_pred_lgb_aligned = y_pred_lgb[seq_len:]\n",
        "y_pred_svr_aligned = y_pred_svr[seq_len:]\n",
        "\n",
        "# Create final DataFrame for side-by-side comparison\n",
        "df_compare = pd.DataFrame({\n",
        "    \"actual_rul\": y_true_lstm,\n",
        "    \"lightgbm_pred\": y_pred_lgb_aligned,\n",
        "    \"svm_pred\": y_pred_svr_aligned,\n",
        "    \"lstm_pred\": y_pred_lstm\n",
        "})\n",
        "\n",
        "# Save to CSV for visualization\n",
        "df_compare.to_csv(\"actual_vs_predicted2.csv\", index=False)\n",
        "print(\" Saved actual_vs_predicted.csv for model comparison.\")\n"
      ],
      "metadata": {
        "colab": {
          "base_uri": "https://localhost:8080/"
        },
        "id": "uKtIB0gvDow9",
        "outputId": "6bc7dcd9-f5a8-47d6-919b-a618ca74deee"
      },
      "execution_count": 14,
      "outputs": [
        {
          "output_type": "stream",
          "name": "stderr",
          "text": [
            "/usr/local/lib/python3.11/dist-packages/sklearn/utils/deprecation.py:151: FutureWarning: 'force_all_finite' was renamed to 'ensure_all_finite' in 1.6 and will be removed in 1.8.\n",
            "  warnings.warn(\n"
          ]
        },
        {
          "output_type": "stream",
          "name": "stdout",
          "text": [
            "✅ Saved actual_vs_predicted.csv for model comparison.\n"
          ]
        }
      ]
    }
  ]
}