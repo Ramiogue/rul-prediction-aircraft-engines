{
  "nbformat": 4,
  "nbformat_minor": 0,
  "metadata": {
    "colab": {
      "provenance": []
    },
    "kernelspec": {
      "name": "python3",
      "display_name": "Python 3"
    },
    "language_info": {
      "name": "python"
    }
  },
  "cells": [
    {
      "cell_type": "markdown",
      "source": [
        "# **Preprocessing**"
      ],
      "metadata": {
        "id": "Fm4sUwiF1SbH"
      }
    },
    {
      "cell_type": "code",
      "source": [
        "# preprocess_rul_data.py\n",
        "import pandas as pd\n",
        "import numpy as np\n",
        "\n",
        "# Step 1: Load and label columns\n",
        "df = pd.read_csv(\"train_FD001.txt\", sep=\"\\s+\", header=None)\n",
        "cols = ['unit_number', 'time_in_cycles'] + \\\n",
        "       [f'operational_setting_{i}' for i in range(1, 4)] + \\\n",
        "       [f'sensor_measurement_{i}' for i in range(1, 22)]\n",
        "df.columns = cols\n",
        "\n",
        "# Step 2: RUL calculation\n",
        "rul = df.groupby('unit_number')['time_in_cycles'].max().reset_index()\n",
        "rul.columns = ['unit_number', 'max_cycle']\n",
        "df = df.merge(rul, on='unit_number')\n",
        "df['RUL'] = df['max_cycle'] - df['time_in_cycles']\n",
        "df.drop('max_cycle', axis=1, inplace=True)\n",
        "\n",
        "# Step 3: Drop irrelevant sensors\n",
        "drop_sensors = ['sensor_measurement_1', 'sensor_measurement_5', 'sensor_measurement_6',\n",
        "                'sensor_measurement_10', 'sensor_measurement_16', 'sensor_measurement_18',\n",
        "                'sensor_measurement_19']\n",
        "df.drop(columns=drop_sensors, inplace=True)\n",
        "\n",
        "# Step 4: Feature engineering\n",
        "for col in df.columns:\n",
        "    if 'sensor_measurement' in col:\n",
        "        df[f'{col}_roll_mean'] = df.groupby(\"unit_number\")[col].rolling(window=5, min_periods=1).mean().reset_index(level=0, drop=True)\n",
        "        df[f'{col}_roll_std'] = df.groupby(\"unit_number\")[col].rolling(window=5, min_periods=1).std().reset_index(level=0, drop=True).fillna(0)\n",
        "        df[f'{col}_delta'] = df.groupby(\"unit_number\")[col].diff().fillna(0)\n",
        "        df[f'{col}_ema'] = df.groupby(\"unit_number\")[col].ewm(span=5, adjust=False).mean().reset_index(level=0, drop=True)\n",
        "\n",
        "# Step 5: Normalized cycle\n",
        "df['cycle_norm'] = df.groupby('unit_number')['time_in_cycles'].transform(lambda x: x / x.max())\n",
        "\n",
        "# Step 6: Min-max normalization (per unit)\n",
        "features_to_normalize = [col for col in df.columns if col not in ['unit_number', 'time_in_cycles', 'RUL']]\n",
        "for col in features_to_normalize:\n",
        "    df[col] = df.groupby('unit_number')[col].transform(lambda x: (x - x.min()) / (x.max() - x.min() + 1e-8))\n",
        "\n",
        "# Save\n",
        "df.reset_index(drop=True, inplace=True)\n",
        "df.to_csv(\"preprocessed_rul_data.csv\", index=False)\n",
        "print(\"Preprocessing complete. Saved as 'preprocessed_rul_data.csv'\")\n"
      ],
      "metadata": {
        "colab": {
          "base_uri": "https://localhost:8080/"
        },
        "id": "7JjnMowl1X31",
        "outputId": "483a7f66-77db-4b66-ad7e-3ea766bab378"
      },
      "execution_count": null,
      "outputs": [
        {
          "output_type": "stream",
          "name": "stdout",
          "text": [
            "Preprocessing complete. Saved as 'preprocessed_rul_data.csv'\n"
          ]
        }
      ]
    },
    {
      "cell_type": "markdown",
      "source": [
        "# **LightGBM**"
      ],
      "metadata": {
        "id": "uocSSerA1jPV"
      }
    },
    {
      "cell_type": "code",
      "source": [
        "# train_lightgbm.py\n",
        "import pandas as pd\n",
        "from sklearn.model_selection import train_test_split\n",
        "from sklearn.preprocessing import MinMaxScaler\n",
        "from lightgbm import LGBMRegressor\n",
        "from sklearn.metrics import mean_squared_error\n",
        "from sklearn.metrics import mean_absolute_error, r2_score\n",
        "import joblib\n",
        "\n",
        "# Load\n",
        "df = pd.read_csv(\"preprocessed_rul_data.csv\")\n",
        "X = df.drop(columns=[\"unit_number\", \"time_in_cycles\", \"RUL\"])\n",
        "y = df[\"RUL\"]\n",
        "\n",
        "# Split\n",
        "X_train_val, X_holdout, y_train_val, y_holdout = train_test_split(X, y, test_size=0.3, random_state=42)\n",
        "X_train, X_val, y_train, y_val = train_test_split(X_train_val, y_train_val, test_size=0.2, random_state=42)\n",
        "\n",
        "# Scale\n",
        "scaler = MinMaxScaler()\n",
        "X_train_scaled = scaler.fit_transform(X_train)\n",
        "X_val_scaled = scaler.transform(X_val)\n",
        "X_holdout_scaled = scaler.transform(X_holdout)\n",
        "\n",
        "joblib.dump(scaler, \"scaler.joblib\")\n",
        "joblib.dump((X_train_scaled, X_val_scaled, X_holdout_scaled, y_train, y_val, y_holdout), \"scaled_data.joblib\")\n",
        "\n",
        "# Train\n",
        "model = LGBMRegressor(\n",
        "    n_estimators=300,\n",
        "    learning_rate=0.05,\n",
        "    max_depth=7,\n",
        "    num_leaves=40,\n",
        "    subsample=0.8,\n",
        "    colsample_bytree=0.8,\n",
        "    reg_lambda=1.0,\n",
        "    random_state=42\n",
        ")\n",
        "model.fit(X_train_scaled, y_train)\n",
        "\n",
        "# Evaluate\n",
        "def evaluate(name, y_true, y_pred):\n",
        "    print(f\"\\n{name} Evaluation:\")\n",
        "    mae = mean_absolute_error(y_true, y_pred)\n",
        "    rmse = np.sqrt(mean_squared_error(y_true, y_pred))  # <-- Compatible with all sklearn versions\n",
        "    r2 = r2_score(y_true, y_pred)\n",
        "\n",
        "    print(\"MAE :\", mae)\n",
        "    print(\"RMSE:\", rmse)\n",
        "    print(\"R²  :\", r2)\n",
        "\n",
        "evaluate(\"Validation\", y_val, model.predict(X_val_scaled))\n",
        "evaluate(\"Holdout\", y_holdout, model.predict(X_holdout_scaled))\n",
        "joblib.dump(model, \"lightgbm_model.joblib\")\n"
      ],
      "metadata": {
        "colab": {
          "base_uri": "https://localhost:8080/"
        },
        "id": "S2vPqmMW1ng5",
        "outputId": "4675f888-957e-4891-d124-a934027f565e"
      },
      "execution_count": null,
      "outputs": [
        {
          "output_type": "stream",
          "name": "stderr",
          "text": [
            "/usr/local/lib/python3.11/dist-packages/sklearn/utils/deprecation.py:151: FutureWarning: 'force_all_finite' was renamed to 'ensure_all_finite' in 1.6 and will be removed in 1.8.\n",
            "  warnings.warn(\n"
          ]
        },
        {
          "output_type": "stream",
          "name": "stdout",
          "text": [
            "[LightGBM] [Info] Auto-choosing col-wise multi-threading, the overhead of testing was 0.010616 seconds.\n",
            "You can set `force_col_wise=true` to remove the overhead.\n",
            "[LightGBM] [Info] Total Bins 17958\n",
            "[LightGBM] [Info] Number of data points in the train set: 11552, number of used features: 73\n",
            "[LightGBM] [Info] Start training from score 107.365738\n",
            "[LightGBM] [Warning] No further splits with positive gain, best gain: -inf\n",
            "[LightGBM] [Warning] No further splits with positive gain, best gain: -inf\n",
            "[LightGBM] [Warning] No further splits with positive gain, best gain: -inf\n",
            "[LightGBM] [Warning] No further splits with positive gain, best gain: -inf\n",
            "[LightGBM] [Warning] No further splits with positive gain, best gain: -inf\n",
            "[LightGBM] [Warning] No further splits with positive gain, best gain: -inf\n",
            "[LightGBM] [Warning] No further splits with positive gain, best gain: -inf\n",
            "[LightGBM] [Warning] No further splits with positive gain, best gain: -inf\n",
            "[LightGBM] [Warning] No further splits with positive gain, best gain: -inf\n",
            "[LightGBM] [Warning] No further splits with positive gain, best gain: -inf\n",
            "[LightGBM] [Warning] No further splits with positive gain, best gain: -inf\n",
            "[LightGBM] [Warning] No further splits with positive gain, best gain: -inf\n",
            "[LightGBM] [Warning] No further splits with positive gain, best gain: -inf\n",
            "\n",
            "Validation Evaluation:\n",
            "MAE : 14.58639311208911\n",
            "RMSE: 21.080658378678788\n",
            "R²  : 0.9092676720293423\n"
          ]
        },
        {
          "output_type": "stream",
          "name": "stderr",
          "text": [
            "/usr/local/lib/python3.11/dist-packages/sklearn/utils/deprecation.py:151: FutureWarning: 'force_all_finite' was renamed to 'ensure_all_finite' in 1.6 and will be removed in 1.8.\n",
            "  warnings.warn(\n",
            "/usr/local/lib/python3.11/dist-packages/sklearn/utils/deprecation.py:151: FutureWarning: 'force_all_finite' was renamed to 'ensure_all_finite' in 1.6 and will be removed in 1.8.\n",
            "  warnings.warn(\n"
          ]
        },
        {
          "output_type": "stream",
          "name": "stdout",
          "text": [
            "\n",
            "Holdout Evaluation:\n",
            "MAE : 14.391989940150955\n",
            "RMSE: 20.63226347497278\n",
            "R²  : 0.9070621253876804\n"
          ]
        },
        {
          "output_type": "execute_result",
          "data": {
            "text/plain": [
              "['lightgbm_model.joblib']"
            ]
          },
          "metadata": {},
          "execution_count": 2
        }
      ]
    },
    {
      "cell_type": "markdown",
      "source": [
        "# **SVM**"
      ],
      "metadata": {
        "id": "7nkg-cjz1u0P"
      }
    },
    {
      "cell_type": "code",
      "source": [
        "import joblib\n",
        "from sklearn.svm import SVR\n",
        "from sklearn.utils import resample\n",
        "from sklearn.metrics import mean_absolute_error, mean_squared_error, r2_score\n",
        "import numpy as np\n",
        "\n",
        "# Load scaled data\n",
        "X_train_scaled, X_val_scaled, X_holdout_scaled, y_train, y_val, y_holdout = joblib.load(\"scaled_data.joblib\")\n",
        "\n",
        "# Downsample\n",
        "X_svr_train, y_svr_train = resample(X_train_scaled, y_train, n_samples=5000, random_state=42)\n",
        "\n",
        "# Train SVR\n",
        "svr_model = SVR(kernel='rbf', C=10, epsilon=0.5, gamma='scale')\n",
        "svr_model.fit(X_svr_train, y_svr_train)\n",
        "\n",
        "# Save the trained SVR model\n",
        "joblib.dump(svr_model, \"svr_model.joblib\")\n",
        "print(\"Saved svr_model.joblib\")\n",
        "\n",
        "# Evaluation function\n",
        "def evaluate(name, X, y):\n",
        "    preds = svr_model.predict(X)\n",
        "    mae = mean_absolute_error(y, preds)\n",
        "    rmse = np.sqrt(mean_squared_error(y, preds))\n",
        "    r2 = r2_score(y, preds)\n",
        "\n",
        "    print(f\"\\n{name} Evaluation:\")\n",
        "    print(\"MAE :\", mae)\n",
        "    print(\"RMSE:\", rmse)\n",
        "    print(\"R²  :\", r2)\n",
        "\n",
        "# Run evaluations\n",
        "evaluate(\"Validation\", X_val_scaled, y_val)\n",
        "evaluate(\"Holdout\", X_holdout_scaled, y_holdout)\n"
      ],
      "metadata": {
        "colab": {
          "base_uri": "https://localhost:8080/"
        },
        "id": "ROxY3yZR1uWs",
        "outputId": "0c8acc9a-0383-46a9-9b85-78fa3f3adcd9"
      },
      "execution_count": null,
      "outputs": [
        {
          "output_type": "stream",
          "name": "stdout",
          "text": [
            "Saved svr_model.joblib\n",
            "\n",
            "Validation Evaluation:\n",
            "MAE : 17.714910497902352\n",
            "RMSE: 27.635183880667245\n",
            "R²  : 0.8440740385854216\n",
            "\n",
            "Holdout Evaluation:\n",
            "MAE : 17.40973210222984\n",
            "RMSE: 26.362914023201732\n",
            "R²  : 0.8482649847198593\n"
          ]
        }
      ]
    },
    {
      "cell_type": "markdown",
      "source": [
        "# **LSTM**"
      ],
      "metadata": {
        "id": "ZZLb-vHO17aF"
      }
    },
    {
      "cell_type": "code",
      "source": [
        "import torch\n",
        "import torch.nn as nn\n",
        "from torch.utils.data import Dataset, DataLoader\n",
        "from sklearn.metrics import mean_absolute_error, mean_squared_error, r2_score\n",
        "import numpy as np\n",
        "import pandas as pd\n",
        "import joblib\n",
        "\n",
        "# Load scaled data\n",
        "X_train_scaled, X_val_scaled, X_holdout_scaled, y_train, y_val, y_holdout = joblib.load(\"scaled_data.joblib\")\n",
        "\n",
        "# LSTM Dataset\n",
        "class RULDataset(Dataset):\n",
        "    def __init__(self, X, y, seq_len=30):\n",
        "        self.X, self.y = self.create_sequences(X, y, seq_len)\n",
        "\n",
        "    def create_sequences(self, X, y, seq_len):\n",
        "        X_seq, y_seq = [], []\n",
        "        for i in range(seq_len, len(X)):\n",
        "            X_seq.append(X[i-seq_len:i])\n",
        "            y_seq.append(y[i])\n",
        "        return torch.tensor(np.array(X_seq), dtype=torch.float32), torch.tensor(np.array(y_seq), dtype=torch.float32)\n",
        "\n",
        "    def __len__(self): return len(self.y)\n",
        "    def __getitem__(self, idx): return self.X[idx], self.y[idx]\n",
        "\n",
        "# LSTM Model\n",
        "class LSTMModel(nn.Module):\n",
        "    def __init__(self, input_size, hidden_size=100, num_layers=2, dropout=0.3):\n",
        "        super().__init__()\n",
        "        self.lstm = nn.LSTM(input_size, hidden_size, num_layers,\n",
        "                            batch_first=True, dropout=dropout)\n",
        "        self.fc = nn.Linear(hidden_size, 1)\n",
        "\n",
        "    def forward(self, x):\n",
        "        out, _ = self.lstm(x)\n",
        "        return self.fc(out[:, -1, :]).squeeze()\n",
        "\n",
        "#  Parameters\n",
        "seq_len = 30\n",
        "batch_size = 64\n",
        "input_size = X_train_scaled.shape[1]\n",
        "epochs = 50\n",
        "learning_rate = 0.001\n",
        "\n",
        "# Prepare Datasets\n",
        "train_data = RULDataset(X_train_scaled, y_train.values, seq_len)\n",
        "val_data = RULDataset(X_val_scaled, y_val.values, seq_len)\n",
        "holdout_data = RULDataset(X_holdout_scaled, y_holdout.values, seq_len)\n",
        "\n",
        "train_loader = DataLoader(train_data, batch_size=batch_size, shuffle=True)\n",
        "val_loader = DataLoader(val_data, batch_size=batch_size)\n",
        "holdout_loader = DataLoader(holdout_data, batch_size=batch_size)\n",
        "\n",
        "# Build Model\n",
        "model = LSTMModel(input_size=input_size)\n",
        "optimizer = torch.optim.Adam(model.parameters(), lr=learning_rate)\n",
        "criterion = nn.MSELoss()\n",
        "clip = 1.0\n",
        "\n",
        "# Train LSTM\n",
        "for epoch in range(epochs):\n",
        "    model.train()\n",
        "    total_loss = 0\n",
        "    for X_batch, y_batch in train_loader:\n",
        "        optimizer.zero_grad()\n",
        "        y_pred = model(X_batch)\n",
        "        loss = criterion(y_pred, y_batch)\n",
        "        loss.backward()\n",
        "        torch.nn.utils.clip_grad_norm_(model.parameters(), max_norm=clip)\n",
        "        optimizer.step()\n",
        "        total_loss += loss.item()\n",
        "    print(f\"Epoch {epoch+1}/{epochs} - Loss: {total_loss:.4f}\")\n",
        "\n",
        "# Evaluation Function\n",
        "def evaluate_lstm(name, loader, true_targets):\n",
        "    model.eval()\n",
        "    preds, truths = [], []\n",
        "    with torch.no_grad():\n",
        "        for X_batch, y_batch in loader:\n",
        "            y_pred = model(X_batch)\n",
        "            preds.extend(y_pred.numpy())\n",
        "            truths.extend(y_batch.numpy())\n",
        "\n",
        "    # Align predictions to true targets\n",
        "    y_true_aligned = true_targets[seq_len:]\n",
        "    preds = np.array(preds)\n",
        "\n",
        "    mae = mean_absolute_error(y_true_aligned, preds)\n",
        "    rmse = np.sqrt(mean_squared_error(y_true_aligned, preds))\n",
        "    r2 = r2_score(y_true_aligned, preds)\n",
        "\n",
        "    print(f\"\\n {name} Evaluation:\")\n",
        "    print(\"MAE :\", mae)\n",
        "    print(\"RMSE:\", rmse)\n",
        "    print(\"R²  :\", r2)\n",
        "\n",
        "    return y_true_aligned, preds\n",
        "\n",
        "# Run Evaluation and Save CSV\n",
        "y_true_lstm, y_pred_lstm = evaluate_lstm(\"LSTM - Holdout\", holdout_loader, y_holdout.values)\n",
        "\n",
        "# Save predictions for Power BI\n",
        "df_lstm = pd.DataFrame({\n",
        "    \"actual_rul\": y_true_lstm,\n",
        "    \"lstm_pred\": y_pred_lstm\n",
        "})\n",
        "df_lstm.to_csv(\"lstm_predictions.csv\", index=False)\n",
        "print(\" Saved lstm_predictions.csv\")\n"
      ],
      "metadata": {
        "colab": {
          "base_uri": "https://localhost:8080/"
        },
        "id": "XQ4_up8016-x",
        "outputId": "23806cab-d1af-4a5b-b62b-b3bcbda7435b"
      },
      "execution_count": null,
      "outputs": [
        {
          "output_type": "stream",
          "name": "stdout",
          "text": [
            "Epoch 1/50 - Loss: 2474248.2617\n",
            "Epoch 2/50 - Loss: 1901031.3096\n",
            "Epoch 3/50 - Loss: 1457949.1943\n",
            "Epoch 4/50 - Loss: 1142920.3247\n",
            "Epoch 5/50 - Loss: 951939.3899\n",
            "Epoch 6/50 - Loss: 877941.7024\n",
            "Epoch 7/50 - Loss: 864120.3459\n",
            "Epoch 8/50 - Loss: 880158.2400\n",
            "Epoch 9/50 - Loss: 867580.3274\n",
            "Epoch 10/50 - Loss: 867099.2705\n",
            "Epoch 11/50 - Loss: 869063.9634\n",
            "Epoch 12/50 - Loss: 862924.4471\n",
            "Epoch 13/50 - Loss: 869156.1682\n",
            "Epoch 14/50 - Loss: 869696.7908\n",
            "Epoch 15/50 - Loss: 862957.2123\n",
            "Epoch 16/50 - Loss: 863012.6577\n",
            "Epoch 17/50 - Loss: 862372.5296\n",
            "Epoch 18/50 - Loss: 863473.9355\n",
            "Epoch 19/50 - Loss: 864039.7098\n",
            "Epoch 20/50 - Loss: 868217.1006\n",
            "Epoch 21/50 - Loss: 864309.9468\n",
            "Epoch 22/50 - Loss: 866898.4612\n",
            "Epoch 23/50 - Loss: 877279.9971\n",
            "Epoch 24/50 - Loss: 889617.5510\n",
            "Epoch 25/50 - Loss: 880243.4407\n",
            "Epoch 26/50 - Loss: 864098.2778\n",
            "Epoch 27/50 - Loss: 862432.8520\n",
            "Epoch 28/50 - Loss: 868503.6812\n",
            "Epoch 29/50 - Loss: 867716.1101\n",
            "Epoch 30/50 - Loss: 882332.6167\n",
            "Epoch 31/50 - Loss: 865613.6228\n",
            "Epoch 32/50 - Loss: 867604.2168\n",
            "Epoch 33/50 - Loss: 866299.9636\n",
            "Epoch 34/50 - Loss: 864754.0955\n",
            "Epoch 35/50 - Loss: 865183.7749\n",
            "Epoch 36/50 - Loss: 867764.0046\n",
            "Epoch 37/50 - Loss: 864195.7717\n",
            "Epoch 38/50 - Loss: 868250.6091\n",
            "Epoch 39/50 - Loss: 882728.9211\n",
            "Epoch 40/50 - Loss: 880403.0718\n",
            "Epoch 41/50 - Loss: 867487.3093\n",
            "Epoch 42/50 - Loss: 866278.3484\n",
            "Epoch 43/50 - Loss: 867106.8696\n",
            "Epoch 44/50 - Loss: 862996.9920\n",
            "Epoch 45/50 - Loss: 864861.6135\n",
            "Epoch 46/50 - Loss: 883360.8997\n",
            "Epoch 47/50 - Loss: 872132.1624\n",
            "Epoch 48/50 - Loss: 863628.5675\n",
            "Epoch 49/50 - Loss: 868233.5063\n",
            "Epoch 50/50 - Loss: 863382.1411\n",
            "\n",
            " LSTM - Holdout Evaluation:\n",
            "MAE : 55.848114013671875\n",
            "RMSE: 67.72422249461414\n",
            "R²  : -0.0002980232238769531\n",
            " Saved lstm_predictions.csv\n"
          ]
        }
      ]
    },
    {
      "cell_type": "markdown",
      "source": [
        "# **Model Comparison**"
      ],
      "metadata": {
        "id": "m07yGLsqi-If"
      }
    },
    {
      "cell_type": "code",
      "source": [
        "import numpy as np\n",
        "import pandas as pd\n",
        "from sklearn.metrics import mean_absolute_error, mean_squared_error, r2_score\n",
        "import joblib\n",
        "\n",
        "# Load y_true and predictions\n",
        "# These come from scaled_data.joblib or your model code\n",
        "X_train_scaled, X_val_scaled, X_holdout_scaled, y_train, y_val, y_holdout = joblib.load(\"scaled_data.joblib\")\n",
        "\n",
        "# Load LightGBM and SVM predictions\n",
        "lgb_model = joblib.load(\"lightgbm_model.joblib\")\n",
        "svr_model = joblib.load(\"svr_model.joblib\")\n",
        "\n",
        "y_pred_lgb = lgb_model.predict(X_holdout_scaled)\n",
        "y_pred_svr = svr_model.predict(X_holdout_scaled)\n",
        "\n",
        "# Load LSTM predictions\n",
        "df_lstm = pd.read_csv(\"lstm_predictions.csv\")\n",
        "y_pred_lstm = df_lstm[\"lstm_pred\"].values\n",
        "y_true_lstm = df_lstm[\"actual_rul\"].values\n",
        "\n",
        "# Create Metrics Table\n",
        "def get_metrics(y_true, y_pred):\n",
        "    return {\n",
        "        \"mae\": mean_absolute_error(y_true, y_pred),\n",
        "        \"rmse\": np.sqrt(mean_squared_error(y_true, y_pred)),\n",
        "        \"r2\": r2_score(y_true, y_pred)\n",
        "    }\n",
        "\n",
        "# Collect metrics\n",
        "metrics = [\n",
        "    {\"model\": \"LightGBM\", **get_metrics(y_holdout, y_pred_lgb)},\n",
        "    {\"model\": \"SVM\",      **get_metrics(y_holdout, y_pred_svr)},\n",
        "    {\"model\": \"LSTM\",     **get_metrics(y_true_lstm, y_pred_lstm)}\n",
        "]\n",
        "\n",
        "df_compare = pd.DataFrame(metrics)\n",
        "df_compare.to_csv(\"model_comparison.csv\", index=False)\n",
        "print(\" Saved model_comparison.csv\")\n"
      ],
      "metadata": {
        "colab": {
          "base_uri": "https://localhost:8080/"
        },
        "id": "UI4BjLNTDDAd",
        "outputId": "3584a077-143f-4640-f4c0-3a44762dbc1a"
      },
      "execution_count": null,
      "outputs": [
        {
          "output_type": "stream",
          "name": "stderr",
          "text": [
            "/usr/local/lib/python3.11/dist-packages/sklearn/utils/deprecation.py:151: FutureWarning: 'force_all_finite' was renamed to 'ensure_all_finite' in 1.6 and will be removed in 1.8.\n",
            "  warnings.warn(\n"
          ]
        },
        {
          "output_type": "stream",
          "name": "stdout",
          "text": [
            " Saved model_comparison.csv\n"
          ]
        }
      ]
    },
    {
      "cell_type": "markdown",
      "source": [
        "# **actual vs predicted**\n",
        "\n"
      ],
      "metadata": {
        "id": "uPfvCg8PjUhD"
      }
    },
    {
      "cell_type": "code",
      "source": [
        "import pandas as pd\n",
        "import numpy as np\n",
        "import joblib\n",
        "\n",
        "# Load holdout true values\n",
        "_, _, X_holdout_scaled, _, _, y_holdout = joblib.load(\"scaled_data.joblib\")\n",
        "\n",
        "# Load predictions\n",
        "lgb_model = joblib.load(\"lightgbm_model.joblib\")\n",
        "svr_model = joblib.load(\"svr_model.joblib\")\n",
        "y_pred_lgb = lgb_model.predict(X_holdout_scaled)\n",
        "y_pred_svr = svr_model.predict(X_holdout_scaled)\n",
        "\n",
        "# Load LSTM predictions (already aligned)\n",
        "df_lstm = pd.read_csv(\"lstm_predictions.csv\")\n",
        "y_true_lstm = df_lstm[\"actual_rul\"].values\n",
        "y_pred_lstm = df_lstm[\"lstm_pred\"].values\n",
        "\n",
        "# Align all predictions by trimming first 30 (LSTM uses seq_len = 30)\n",
        "df_compare = pd.DataFrame({\n",
        "    \"actual_rul\": y_true_lstm,\n",
        "    \"lightgbm_pred\": y_pred_lgb[30:],\n",
        "    \"svm_pred\": y_pred_svr[30:],\n",
        "    \"lstm_pred\": y_pred_lstm\n",
        "})\n",
        "\n",
        "df_compare.to_csv(\"actual_vs_predicted.csv\", index=False)\n",
        "print(\" Saved actual_vs_predicted.csv\")\n"
      ],
      "metadata": {
        "id": "WzGUYdJyEjX-",
        "outputId": "57526ebc-0366-4c17-8a49-e6ef4c826c07",
        "colab": {
          "base_uri": "https://localhost:8080/"
        }
      },
      "execution_count": null,
      "outputs": [
        {
          "output_type": "stream",
          "name": "stderr",
          "text": [
            "/usr/local/lib/python3.11/dist-packages/sklearn/utils/deprecation.py:151: FutureWarning: 'force_all_finite' was renamed to 'ensure_all_finite' in 1.6 and will be removed in 1.8.\n",
            "  warnings.warn(\n"
          ]
        },
        {
          "output_type": "stream",
          "name": "stdout",
          "text": [
            " Saved actual_vs_predicted.csv\n"
          ]
        }
      ]
    }
  ]
}